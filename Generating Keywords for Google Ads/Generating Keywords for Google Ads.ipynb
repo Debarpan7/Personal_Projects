{
 "cells": [
  {
   "cell_type": "code",
   "execution_count": 5,
   "metadata": {},
   "outputs": [
    {
     "name": "stdout",
     "output_type": "stream",
     "text": [
      "['buy', 'price', 'discount', 'promotion', 'promo', 'shop', 'buying', 'prices', 'pricing', 'shopping']\n"
     ]
    }
   ],
   "source": [
    "import pandas as pd\n",
    "from pprint import pprint\n",
    "\n",
    "# List of words to pair with products\n",
    "words = ['buy', 'price', 'discount', 'promotion', 'promo', 'shop', 'buying', 'prices', 'pricing', 'shopping']\n",
    "\n",
    "# Inspecting the list\n",
    "print(words)"
   ]
  },
  {
   "cell_type": "code",
   "execution_count": 6,
   "metadata": {},
   "outputs": [
    {
     "name": "stdout",
     "output_type": "stream",
     "text": [
      "[['sofas', 'sofas buy'],\n",
      " ['sofas', 'buy sofas'],\n",
      " ['sofas', 'sofas price'],\n",
      " ['sofas', 'price sofas'],\n",
      " ['sofas', 'sofas discount'],\n",
      " ['sofas', 'discount sofas'],\n",
      " ['sofas', 'sofas promotion'],\n",
      " ['sofas', 'promotion sofas'],\n",
      " ['sofas', 'sofas promo'],\n",
      " ['sofas', 'promo sofas'],\n",
      " ['sofas', 'sofas shop'],\n",
      " ['sofas', 'shop sofas'],\n",
      " ['sofas', 'sofas buying'],\n",
      " ['sofas', 'buying sofas'],\n",
      " ['sofas', 'sofas prices'],\n",
      " ['sofas', 'prices sofas'],\n",
      " ['sofas', 'sofas pricing'],\n",
      " ['sofas', 'pricing sofas'],\n",
      " ['sofas', 'sofas shopping'],\n",
      " ['sofas', 'shopping sofas'],\n",
      " ['convertible sofas', 'convertible sofas buy'],\n",
      " ['convertible sofas', 'buy convertible sofas'],\n",
      " ['convertible sofas', 'convertible sofas price'],\n",
      " ['convertible sofas', 'price convertible sofas'],\n",
      " ['convertible sofas', 'convertible sofas discount'],\n",
      " ['convertible sofas', 'discount convertible sofas'],\n",
      " ['convertible sofas', 'convertible sofas promotion'],\n",
      " ['convertible sofas', 'promotion convertible sofas'],\n",
      " ['convertible sofas', 'convertible sofas promo'],\n",
      " ['convertible sofas', 'promo convertible sofas'],\n",
      " ['convertible sofas', 'convertible sofas shop'],\n",
      " ['convertible sofas', 'shop convertible sofas'],\n",
      " ['convertible sofas', 'convertible sofas buying'],\n",
      " ['convertible sofas', 'buying convertible sofas'],\n",
      " ['convertible sofas', 'convertible sofas prices'],\n",
      " ['convertible sofas', 'prices convertible sofas'],\n",
      " ['convertible sofas', 'convertible sofas pricing'],\n",
      " ['convertible sofas', 'pricing convertible sofas'],\n",
      " ['convertible sofas', 'convertible sofas shopping'],\n",
      " ['convertible sofas', 'shopping convertible sofas'],\n",
      " ['love seats', 'love seats buy'],\n",
      " ['love seats', 'buy love seats'],\n",
      " ['love seats', 'love seats price'],\n",
      " ['love seats', 'price love seats'],\n",
      " ['love seats', 'love seats discount'],\n",
      " ['love seats', 'discount love seats'],\n",
      " ['love seats', 'love seats promotion'],\n",
      " ['love seats', 'promotion love seats'],\n",
      " ['love seats', 'love seats promo'],\n",
      " ['love seats', 'promo love seats'],\n",
      " ['love seats', 'love seats shop'],\n",
      " ['love seats', 'shop love seats'],\n",
      " ['love seats', 'love seats buying'],\n",
      " ['love seats', 'buying love seats'],\n",
      " ['love seats', 'love seats prices'],\n",
      " ['love seats', 'prices love seats'],\n",
      " ['love seats', 'love seats pricing'],\n",
      " ['love seats', 'pricing love seats'],\n",
      " ['love seats', 'love seats shopping'],\n",
      " ['love seats', 'shopping love seats'],\n",
      " ['recliners', 'recliners buy'],\n",
      " ['recliners', 'buy recliners'],\n",
      " ['recliners', 'recliners price'],\n",
      " ['recliners', 'price recliners'],\n",
      " ['recliners', 'recliners discount'],\n",
      " ['recliners', 'discount recliners'],\n",
      " ['recliners', 'recliners promotion'],\n",
      " ['recliners', 'promotion recliners'],\n",
      " ['recliners', 'recliners promo'],\n",
      " ['recliners', 'promo recliners'],\n",
      " ['recliners', 'recliners shop'],\n",
      " ['recliners', 'shop recliners'],\n",
      " ['recliners', 'recliners buying'],\n",
      " ['recliners', 'buying recliners'],\n",
      " ['recliners', 'recliners prices'],\n",
      " ['recliners', 'prices recliners'],\n",
      " ['recliners', 'recliners pricing'],\n",
      " ['recliners', 'pricing recliners'],\n",
      " ['recliners', 'recliners shopping'],\n",
      " ['recliners', 'shopping recliners'],\n",
      " ['sofa beds', 'sofa beds buy'],\n",
      " ['sofa beds', 'buy sofa beds'],\n",
      " ['sofa beds', 'sofa beds price'],\n",
      " ['sofa beds', 'price sofa beds'],\n",
      " ['sofa beds', 'sofa beds discount'],\n",
      " ['sofa beds', 'discount sofa beds'],\n",
      " ['sofa beds', 'sofa beds promotion'],\n",
      " ['sofa beds', 'promotion sofa beds'],\n",
      " ['sofa beds', 'sofa beds promo'],\n",
      " ['sofa beds', 'promo sofa beds'],\n",
      " ['sofa beds', 'sofa beds shop'],\n",
      " ['sofa beds', 'shop sofa beds'],\n",
      " ['sofa beds', 'sofa beds buying'],\n",
      " ['sofa beds', 'buying sofa beds'],\n",
      " ['sofa beds', 'sofa beds prices'],\n",
      " ['sofa beds', 'prices sofa beds'],\n",
      " ['sofa beds', 'sofa beds pricing'],\n",
      " ['sofa beds', 'pricing sofa beds'],\n",
      " ['sofa beds', 'sofa beds shopping'],\n",
      " ['sofa beds', 'shopping sofa beds']]\n"
     ]
    }
   ],
   "source": [
    "# List of products\n",
    "products = ['sofas', 'convertible sofas', 'love seats', 'recliners', 'sofa beds']\n",
    "\n",
    "# Create an empty list of keywords to be generated\n",
    "keywords_list = []\n",
    "\n",
    "# Loop through products and words to create cobinations\n",
    "for product in products :\n",
    "    for word in words :\n",
    "        # Append combinations (word + product, product + word)\n",
    "        keywords_list.append([product, product + ' ' + word])\n",
    "        keywords_list.append([product, word + ' ' + product])\n",
    "        \n",
    "# Inspect keyword list\n",
    "pprint(keywords_list)"
   ]
  },
  {
   "cell_type": "code",
   "execution_count": 10,
   "metadata": {},
   "outputs": [
    {
     "name": "stdout",
     "output_type": "stream",
     "text": [
      "  Ad Group         Keyword\n",
      "0    sofas       sofas buy\n",
      "1    sofas       buy sofas\n",
      "2    sofas     sofas price\n",
      "3    sofas     price sofas\n",
      "4    sofas  sofas discount\n"
     ]
    }
   ],
   "source": [
    "# Create a DataFrame from the keywords list with named columns\n",
    "keywords_df = pd.DataFrame.from_records(keywords_list).rename(columns = { 0 : 'Ad Group', 1 : 'Keyword'}, inplace = False)\n",
    "\n",
    "# Inspecting the DataFrame\n",
    "print(keywords_df.head())"
   ]
  },
  {
   "cell_type": "code",
   "execution_count": 13,
   "metadata": {},
   "outputs": [
    {
     "name": "stdout",
     "output_type": "stream",
     "text": [
      "     Ad Group             Keyword Campaign Criterion Type\n",
      "0       sofas           sofas buy    Sofas          Exact\n",
      "1       sofas           buy sofas    Sofas          Exact\n",
      "2       sofas         sofas price    Sofas          Exact\n",
      "3       sofas         price sofas    Sofas          Exact\n",
      "4       sofas      sofas discount    Sofas          Exact\n",
      "..        ...                 ...      ...            ...\n",
      "95  sofa beds    prices sofa beds    Sofas         Phrase\n",
      "96  sofa beds   sofa beds pricing    Sofas         Phrase\n",
      "97  sofa beds   pricing sofa beds    Sofas         Phrase\n",
      "98  sofa beds  sofa beds shopping    Sofas         Phrase\n",
      "99  sofa beds  shopping sofa beds    Sofas         Phrase\n",
      "\n",
      "[200 rows x 4 columns]\n"
     ]
    }
   ],
   "source": [
    "# Adding two new columns for Campaign and Criterion Type\n",
    "keywords_df['Campaign'] = 'Sofas'\n",
    "keywords_df['Criterion Type'] = 'Exact'\n",
    "\n",
    "# Creating a copy of the keywords DataFrame\n",
    "keywords_phrase = keywords_df.copy()\n",
    "\n",
    "# Changing the Criterion Type\n",
    "keywords_phrase['Criterion Type'] = 'Phrase'\n",
    "\n",
    "# Appending the DataFrames\n",
    "keywords_df_final = pd.concat([keywords_df, keywords_phrase])\n",
    "print(keywords_df_final)"
   ]
  },
  {
   "cell_type": "code",
   "execution_count": 14,
   "metadata": {},
   "outputs": [
    {
     "name": "stdout",
     "output_type": "stream",
     "text": [
      "Ad Group           Criterion Type\n",
      "convertible sofas  Exact             20\n",
      "                   Phrase            20\n",
      "love seats         Exact             20\n",
      "                   Phrase            20\n",
      "recliners          Exact             20\n",
      "                   Phrase            20\n",
      "sofa beds          Exact             20\n",
      "                   Phrase            20\n",
      "sofas              Exact             20\n",
      "                   Phrase            20\n",
      "Name: Keyword, dtype: int64\n"
     ]
    }
   ],
   "source": [
    "# Saving the final DataFrame as a CSV File\n",
    "keywords_df_final.to_csv(\"keywords.csv\", index = False)\n",
    "\n",
    "# Summary of the Campaign. This can be exported to AdWords Editor or BingAds Editor\n",
    "summary = keywords_df_final.groupby(['Ad Group', 'Criterion Type'])['Keyword'].count()\n",
    "print(summary)"
   ]
  }
 ],
 "metadata": {
  "kernelspec": {
   "display_name": "Python 3",
   "language": "python",
   "name": "python3"
  },
  "language_info": {
   "codemirror_mode": {
    "name": "ipython",
    "version": 3
   },
   "file_extension": ".py",
   "mimetype": "text/x-python",
   "name": "python",
   "nbconvert_exporter": "python",
   "pygments_lexer": "ipython3",
   "version": "3.8.5"
  }
 },
 "nbformat": 4,
 "nbformat_minor": 4
}
