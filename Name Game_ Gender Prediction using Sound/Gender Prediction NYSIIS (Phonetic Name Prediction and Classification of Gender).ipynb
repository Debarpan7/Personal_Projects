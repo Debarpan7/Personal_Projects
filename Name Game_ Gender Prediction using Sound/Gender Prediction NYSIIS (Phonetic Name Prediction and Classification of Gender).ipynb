{
 "cells": [
  {
   "cell_type": "code",
   "execution_count": 6,
   "metadata": {},
   "outputs": [],
   "source": [
    "import fuzzy\n",
    "import pandas as pd\n",
    "import numpy as np\n",
    "import matplotlib.pyplot as plt\n",
    "%matplotlib inline"
   ]
  },
  {
   "cell_type": "code",
   "execution_count": 7,
   "metadata": {},
   "outputs": [
    {
     "data": {
      "text/html": [
       "<div>\n",
       "<style scoped>\n",
       "    .dataframe tbody tr th:only-of-type {\n",
       "        vertical-align: middle;\n",
       "    }\n",
       "\n",
       "    .dataframe tbody tr th {\n",
       "        vertical-align: top;\n",
       "    }\n",
       "\n",
       "    .dataframe thead th {\n",
       "        text-align: right;\n",
       "    }\n",
       "</style>\n",
       "<table border=\"1\" class=\"dataframe\">\n",
       "  <thead>\n",
       "    <tr style=\"text-align: right;\">\n",
       "      <th></th>\n",
       "      <th>Year</th>\n",
       "      <th>Book Title</th>\n",
       "      <th>Author</th>\n",
       "      <th>Besteller this year</th>\n",
       "      <th>first_name</th>\n",
       "    </tr>\n",
       "  </thead>\n",
       "  <tbody>\n",
       "    <tr>\n",
       "      <th>0</th>\n",
       "      <td>2017</td>\n",
       "      <td>DRAGONS LOVE TACOS</td>\n",
       "      <td>Adam Rubin</td>\n",
       "      <td>49</td>\n",
       "      <td>Adam</td>\n",
       "    </tr>\n",
       "    <tr>\n",
       "      <th>1</th>\n",
       "      <td>2017</td>\n",
       "      <td>THE WONDERFUL THINGS YOU WILL BE</td>\n",
       "      <td>Emily Winfield Martin</td>\n",
       "      <td>48</td>\n",
       "      <td>Emily</td>\n",
       "    </tr>\n",
       "    <tr>\n",
       "      <th>2</th>\n",
       "      <td>2017</td>\n",
       "      <td>THE DAY THE CRAYONS QUIT</td>\n",
       "      <td>Drew Daywalt</td>\n",
       "      <td>44</td>\n",
       "      <td>Drew</td>\n",
       "    </tr>\n",
       "    <tr>\n",
       "      <th>3</th>\n",
       "      <td>2017</td>\n",
       "      <td>ROSIE REVERE, ENGINEER</td>\n",
       "      <td>Andrea Beaty</td>\n",
       "      <td>38</td>\n",
       "      <td>Andrea</td>\n",
       "    </tr>\n",
       "    <tr>\n",
       "      <th>4</th>\n",
       "      <td>2017</td>\n",
       "      <td>ADA TWIST, SCIENTIST</td>\n",
       "      <td>Andrea Beaty</td>\n",
       "      <td>28</td>\n",
       "      <td>Andrea</td>\n",
       "    </tr>\n",
       "  </tbody>\n",
       "</table>\n",
       "</div>"
      ],
      "text/plain": [
       "   Year                        Book Title                 Author  \\\n",
       "0  2017                DRAGONS LOVE TACOS             Adam Rubin   \n",
       "1  2017  THE WONDERFUL THINGS YOU WILL BE  Emily Winfield Martin   \n",
       "2  2017          THE DAY THE CRAYONS QUIT           Drew Daywalt   \n",
       "3  2017            ROSIE REVERE, ENGINEER           Andrea Beaty   \n",
       "4  2017              ADA TWIST, SCIENTIST           Andrea Beaty   \n",
       "\n",
       "   Besteller this year first_name  \n",
       "0                   49       Adam  \n",
       "1                   48      Emily  \n",
       "2                   44       Drew  \n",
       "3                   38     Andrea  \n",
       "4                   28     Andrea  "
      ]
     },
     "execution_count": 7,
     "metadata": {},
     "output_type": "execute_result"
    }
   ],
   "source": [
    "# Importing the dataset which is delimited by a semicolon\n",
    "author_df = pd.read_csv('datasets/nytkids_yearly.csv', delimiter = ';')\n",
    "\n",
    "# Extracting the first names of the authors\n",
    "first_name = []\n",
    "for name in author_df['Author']:\n",
    "    first_name.append(name.split()[0])\n",
    "\n",
    "# Adding a new column for First Names\n",
    "author_df['first_name'] = pd.Series(first_name)\n",
    "\n",
    "# Inspecting the resultant DataFrame\n",
    "author_df.head()"
   ]
  },
  {
   "cell_type": "code",
   "execution_count": 8,
   "metadata": {},
   "outputs": [
    {
     "name": "stdout",
     "output_type": "stream",
     "text": [
      "25\n"
     ]
    }
   ],
   "source": [
    "# Creating NYSIIS (New York State Identification and Intelligence System) Equivalents for the First Names\n",
    "nysiis_name = []\n",
    "for name in author_df['first_name'] :\n",
    "    nysiis_name.append(fuzzy.nysiis(name))\n",
    "\n",
    "# Adding a new column for the NYSIIS Equivalents\n",
    "author_df['nysiis_name'] = pd.Series(nysiis_name)\n",
    "\n",
    "# Inspecting the unique sounding first names\n",
    "print(len(np.unique(author_df['first_name'])) - len(np.unique(author_df['nysiis_name'])))"
   ]
  },
  {
   "cell_type": "code",
   "execution_count": 11,
   "metadata": {},
   "outputs": [
    {
     "data": {
      "text/html": [
       "<div>\n",
       "<style scoped>\n",
       "    .dataframe tbody tr th:only-of-type {\n",
       "        vertical-align: middle;\n",
       "    }\n",
       "\n",
       "    .dataframe tbody tr th {\n",
       "        vertical-align: top;\n",
       "    }\n",
       "\n",
       "    .dataframe thead th {\n",
       "        text-align: right;\n",
       "    }\n",
       "</style>\n",
       "<table border=\"1\" class=\"dataframe\">\n",
       "  <thead>\n",
       "    <tr style=\"text-align: right;\">\n",
       "      <th></th>\n",
       "      <th>babynysiis</th>\n",
       "      <th>perc_female</th>\n",
       "      <th>perc_male</th>\n",
       "      <th>gender</th>\n",
       "    </tr>\n",
       "  </thead>\n",
       "  <tbody>\n",
       "    <tr>\n",
       "      <th>0</th>\n",
       "      <td>NaN</td>\n",
       "      <td>62.50</td>\n",
       "      <td>37.50</td>\n",
       "      <td>Female</td>\n",
       "    </tr>\n",
       "    <tr>\n",
       "      <th>1</th>\n",
       "      <td>RAX</td>\n",
       "      <td>63.64</td>\n",
       "      <td>36.36</td>\n",
       "      <td>Female</td>\n",
       "    </tr>\n",
       "    <tr>\n",
       "      <th>2</th>\n",
       "      <td>ESAR</td>\n",
       "      <td>44.44</td>\n",
       "      <td>55.56</td>\n",
       "      <td>Male</td>\n",
       "    </tr>\n",
       "    <tr>\n",
       "      <th>3</th>\n",
       "      <td>DJANG</td>\n",
       "      <td>0.00</td>\n",
       "      <td>100.00</td>\n",
       "      <td>Male</td>\n",
       "    </tr>\n",
       "    <tr>\n",
       "      <th>4</th>\n",
       "      <td>PARCAL</td>\n",
       "      <td>25.00</td>\n",
       "      <td>75.00</td>\n",
       "      <td>Male</td>\n",
       "    </tr>\n",
       "  </tbody>\n",
       "</table>\n",
       "</div>"
      ],
      "text/plain": [
       "  babynysiis  perc_female  perc_male  gender\n",
       "0        NaN        62.50      37.50  Female\n",
       "1        RAX        63.64      36.36  Female\n",
       "2       ESAR        44.44      55.56    Male\n",
       "3      DJANG         0.00     100.00    Male\n",
       "4     PARCAL        25.00      75.00    Male"
      ]
     },
     "execution_count": 11,
     "metadata": {},
     "output_type": "execute_result"
    }
   ],
   "source": [
    "# Reading in Baby Names Dataset derived from Social Security Administration's Data which is semicolon delimited\n",
    "babies_df = pd.read_csv('datasets/babynames_nysiis.csv', delimiter = ';')\n",
    "\n",
    "# Idenifitying Gender \n",
    "gender = []\n",
    "for _, row in babies_df.iterrows() :\n",
    "    \n",
    "    if row['perc_male'] > row['perc_female'] :\n",
    "        gender.append('Male')\n",
    "        continue\n",
    "    \n",
    "    elif row['perc_female'] > row['perc_male'] :\n",
    "        gender.append('Female')\n",
    "        continue\n",
    "    \n",
    "    else :\n",
    "        gender.append('Unknown')\n",
    "\n",
    "# Creating a column for gender in the DataFrame\n",
    "babies_df['gender'] = pd.Series(gender)\n",
    "\n",
    "# Inspecting the DataFrame\n",
    "babies_df.head()"
   ]
  },
  {
   "cell_type": "code",
   "execution_count": 12,
   "metadata": {},
   "outputs": [
    {
     "data": {
      "text/plain": [
       "Female     395\n",
       "Male       191\n",
       "Unknown     17\n",
       "Name: author_gender, dtype: int64"
      ]
     },
     "execution_count": 12,
     "metadata": {},
     "output_type": "execute_result"
    }
   ],
   "source": [
    "# Function to return the position of an element in the list, returns -1 if the item does not exist\n",
    "def locate(element_list, element):\n",
    "    location = element_list.index(element) if element in element_list else -1\n",
    "    return(location)\n",
    "\n",
    "# Identifying the gender of each author\n",
    "author_gender = []\n",
    "for nysiis_name in author_df['nysiis_name'] :\n",
    "    \n",
    "    idx = locate(list(babies_df['babynysiis']), nysiis_name)\n",
    "    \n",
    "    if idx > -1 :\n",
    "        author_gender.append(babies_df['gender'][idx])\n",
    "    \n",
    "    else :\n",
    "        author_gender.append('Unknown')\n",
    "\n",
    "# Creating a column for the gender of the author\n",
    "author_df['author_gender'] = author_gender\n",
    "\n",
    "# Analysing the number of genders in the DataFrame\n",
    "author_df['author_gender'].value_counts()"
   ]
  },
  {
   "cell_type": "code",
   "execution_count": 20,
   "metadata": {},
   "outputs": [
    {
     "name": "stdout",
     "output_type": "stream",
     "text": [
      "Year \t Males \t Females \t Unknowns\n",
      "2008 \t 8 \t 15 \t\t 2\n",
      "2009 \t 19 \t 45 \t\t 3\n",
      "2010 \t 27 \t 48 \t\t 1\n",
      "2011 \t 21 \t 51 \t\t 2\n",
      "2012 \t 21 \t 46 \t\t 2\n",
      "2013 \t 11 \t 51 \t\t 3\n",
      "2014 \t 21 \t 34 \t\t 2\n",
      "2015 \t 18 \t 30 \t\t 0\n",
      "2016 \t 25 \t 32 \t\t 1\n",
      "2017 \t 20 \t 43 \t\t 1\n"
     ]
    }
   ],
   "source": [
    "# Creating a list of unique years sorted in ascending order.\n",
    "years = sorted(np.unique(author_df['Year']))\n",
    "\n",
    "# Creating lists to store years filered by gender\n",
    "males_by_yr = []\n",
    "females_by_yr = []\n",
    "unknown_by_yr = []\n",
    "\n",
    "# Populating the lists\n",
    "for year in years :\n",
    "    \n",
    "    males_by_yr.append(len(author_df[(author_df['author_gender'] == 'Male') & (author_df['Year'] == year)]))\n",
    "                                      \n",
    "    females_by_yr.append(len(author_df[(author_df['author_gender'] == 'Female') & (author_df['Year'] == year)]))\n",
    "    \n",
    "    unknown_by_yr.append(len(author_df[(author_df['author_gender'] == 'Unknown') & (author_df['Year'] == year)]))\n",
    "\n",
    "print(\"Year\", '\\t', \"Males\", '\\t', \"Females\", '\\t', \"Unknowns\")\n",
    "\n",
    "# Printing out yearly values to examine changes over time\n",
    "for i in range(len(males_by_yr)) :\n",
    "    print(years[i], '\\t', males_by_yr[i], '\\t', females_by_yr[i], '\\t\\t', unknown_by_yr[i])"
   ]
  },
  {
   "cell_type": "code",
   "execution_count": 21,
   "metadata": {},
   "outputs": [
    {
     "data": {
      "text/plain": [
       "Text(0, 0.5, 'Unknowns')"
      ]
     },
     "execution_count": 21,
     "metadata": {},
     "output_type": "execute_result"
    },
    {
     "data": {
      "image/png": "[encoded data removed]",
      "text/plain": [
       "<Figure size 432x288 with 1 Axes>"
      ]
     },
     "metadata": {
      "needs_background": "light"
     },
     "output_type": "display_data"
    }
   ],
   "source": [
    "# Bar Chart of Exotic Names\n",
    "plt.bar(x = years, height = unknown_by_yr)\n",
    "plt.title('Unknowns By Year')\n",
    "plt.xlabel('Year')\n",
    "plt.ylabel('Unknowns')"
   ]
  },
  {
   "cell_type": "code",
   "execution_count": 29,
   "metadata": {},
   "outputs": [
    {
     "data": {
      "text/plain": [
       "Text(0, 0.5, 'Gender')"
      ]
     },
     "execution_count": 29,
     "metadata": {},
     "output_type": "execute_result"
    },
    {
     "data": {
      "image/png": "[encoded data removed]",
      "text/plain": [
       "<Figure size 432x288 with 1 Axes>"
      ]
     },
     "metadata": {
      "needs_background": "light"
     },
     "output_type": "display_data"
    }
   ],
   "source": [
    "# Shifting the Years to create a comparative plot\n",
    "years_shifted = [year + 0.25 for year in years]\n",
    "\n",
    "# Bar Chart of Males and Females By Year\n",
    "plt.bar(x = years, height = males_by_yr, width = 0.25, color = 'darkslateblue')\n",
    "plt.bar(x = years_shifted, height = females_by_yr, width = 0.25, color = 'pink')\n",
    "plt.legend([\"Male\", \"Female\"], loc =\"upper right\")\n",
    "plt.xlabel('Year')\n",
    "plt.ylabel('Gender')"
   ]
  }
 ],
 "metadata": {
  "kernelspec": {
   "display_name": "Python 3",
   "language": "python",
   "name": "python3"
  },
  "language_info": {
   "codemirror_mode": {
    "name": "ipython",
    "version": 3
   },
   "file_extension": ".py",
   "mimetype": "text/x-python",
   "name": "python",
   "nbconvert_exporter": "python",
   "pygments_lexer": "ipython3",
   "version": "3.8.5"
  }
 },
 "nbformat": 4,
 "nbformat_minor": 4
}
